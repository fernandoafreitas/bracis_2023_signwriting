{
 "cells": [
  {
   "cell_type": "code",
   "execution_count": 1,
   "metadata": {},
   "outputs": [
    {
     "name": "stderr",
     "output_type": "stream",
     "text": [
      "/home/fernando/anaconda3/envs/bracis/lib/python3.11/site-packages/tqdm/auto.py:21: TqdmWarning: IProgress not found. Please update jupyter and ipywidgets. See https://ipywidgets.readthedocs.io/en/stable/user_install.html\n",
      "  from .autonotebook import tqdm as notebook_tqdm\n"
     ]
    }
   ],
   "source": [
    "import json\n",
    "# from transformers import DistilBertTokenizerFast\n",
    "import os\n",
    "from transformers import DistilBertTokenizerFast\n",
    "from tokenizers import Tokenizer\n",
    "from tokenizers.models import BPE, Unigram, WordLevel, WordPiece\n",
    "from tokenizers.trainers import BpeTrainer, WordLevelTrainer, \\\n",
    "                                WordPieceTrainer, UnigramTrainer"
   ]
  },
  {
   "cell_type": "code",
   "execution_count": 2,
   "metadata": {},
   "outputs": [],
   "source": [
    "from Resources.Vocabulary import Vocabulary"
   ]
  },
  {
   "cell_type": "code",
   "execution_count": 3,
   "metadata": {},
   "outputs": [],
   "source": [
    "Vocabulary = Vocabulary()\n",
    "all_words = Vocabulary.generate_words()"
   ]
  },
  {
   "cell_type": "code",
   "execution_count": 4,
   "metadata": {},
   "outputs": [],
   "source": [
    "tokenizer_name = 'DistilBertTokenizerFastSW'\n",
    "\n",
    "# checking if the directory tokenizers exist or not.\n",
    "if not os.path.exists(\"Outputs/Tokenizers/{}\".format(tokenizer_name)):\n",
    "\t# if the tokenizers directory is not present\n",
    "\t# then create it.\n",
    "\tos.makedirs(\"Outputs/Tokenizers/{}\".format(tokenizer_name))\n",
    "\n",
    "path = 'Outputs/Tokenizers'"
   ]
  },
  {
   "cell_type": "code",
   "execution_count": 5,
   "metadata": {},
   "outputs": [],
   "source": [
    "# Salvar o vocabulário em um arquivo de texto\n",
    "with open('{}/{}/vocab.txt'.format(path, tokenizer_name), 'w') as f:\n",
    "    for idx, palavra in enumerate(all_words):\n",
    "        if(idx != len(all_words)-1):\n",
    "          f.write(palavra + '\\n')\n",
    "        else: \n",
    "          f.write(palavra)"
   ]
  },
  {
   "cell_type": "code",
   "execution_count": 6,
   "metadata": {},
   "outputs": [
    {
     "name": "stdout",
     "output_type": "stream",
     "text": [
      "\n",
      "\n",
      "\n"
     ]
    }
   ],
   "source": [
    "tokenizer = Tokenizer(BPE(unk_token=\"[UNK]\"))\n",
    "trainer = BpeTrainer(special_tokens=[\"[UNK]\", \"[CLS]\", \"[SEP]\", \"[PAD]\", \"[MASK]\"])\n",
    "tokenizer.train_from_iterator(all_words)"
   ]
  },
  {
   "cell_type": "code",
   "execution_count": 7,
   "metadata": {},
   "outputs": [],
   "source": [
    "# Definir o diretório onde os arquivos do tokenizador serão salvos\n",
    "tokenizer_dir = '{}/{}'.format(path, tokenizer_name)\n",
    "\n",
    "# Salvar o tokenizador em um arquivo\n",
    "tokenizer_file = str(tokenizer_dir)\n",
    "tokenizer.save('{}/{}'.format(tokenizer_dir,tokenizer_name))"
   ]
  },
  {
   "cell_type": "code",
   "execution_count": 3,
   "metadata": {},
   "outputs": [],
   "source": [
    "test = 'hand right S1ce S1ce4 S1ce40. hand left S1ce S1ce4 S1ce48. movement  S2b8 S2b80 S2b800. estaticidadeRTrue. estaticidadeLTrue. hands_qtd2.'"
   ]
  },
  {
   "cell_type": "code",
   "execution_count": 18,
   "metadata": {},
   "outputs": [],
   "source": [
    "r = tokenizer.encode(test)"
   ]
  },
  {
   "cell_type": "code",
   "execution_count": 19,
   "metadata": {},
   "outputs": [
    {
     "data": {
      "text/plain": [
       "Encoding(num_tokens=72, attributes=[ids, type_ids, tokens, offsets, attention_mask, special_tokens_mask, overflowing])"
      ]
     },
     "execution_count": 19,
     "metadata": {},
     "output_type": "execute_result"
    }
   ],
   "source": [
    "r"
   ]
  },
  {
   "cell_type": "code",
   "execution_count": 20,
   "metadata": {},
   "outputs": [
    {
     "data": {
      "text/plain": [
       "'hand   righ t   S 1c e   S 1c e 4   S 1c e 40 .   hand   lef t   S 1c e   S 1c e 4   S 1c e 48 .   mo vem en t     S 2b 8   S 2b 8 0   S 2b 8 00 .   estaticidadeR True .   estaticidadeL True .   hands_qtd 2 .'"
      ]
     },
     "execution_count": 20,
     "metadata": {},
     "output_type": "execute_result"
    }
   ],
   "source": [
    "tokenizer.decode(r.ids)"
   ]
  },
  {
   "cell_type": "code",
   "execution_count": 12,
   "metadata": {},
   "outputs": [],
   "source": [
    "from transformers import DistilBertTokenizer\n",
    "added_tokens = ['hand', 'movement', 'dynamic', 'head', 'body', 'location', 'punctuation', 'estaticidadeRTrue', 'estaticidadeRFalse', 'estaticidadeLTrue', 'estaticidadeLFalse', 'hands_qtd0', 'hands_qtd1', 'hands_qtd2', 'right', 'left']\n",
    "tokenizer = DistilBertTokenizer.from_pretrained(pretrained_model_name_or_path='Outputs/Tokenizers/DistilBertTokenizerFastSW',additional_special_tokens=added_tokens)"
   ]
  },
  {
   "cell_type": "code",
   "execution_count": 13,
   "metadata": {},
   "outputs": [],
   "source": [
    "r = tokenizer.encode(test)"
   ]
  },
  {
   "cell_type": "code",
   "execution_count": 14,
   "metadata": {},
   "outputs": [
    {
     "data": {
      "text/plain": [
       "'[CLS] hand right s1ce s1ce4 s1ce40. hand left s1ce s1ce4 s1ce48. movement s2b8 s2b80 s2b800. estaticidadeRTrue. estaticidadeLTrue. hands_qtd2. [SEP]'"
      ]
     },
     "execution_count": 14,
     "metadata": {},
     "output_type": "execute_result"
    }
   ],
   "source": [
    "tokenizer.decode(r)"
   ]
  }
 ],
 "metadata": {
  "kernelspec": {
   "display_name": "bracis",
   "language": "python",
   "name": "python3"
  },
  "language_info": {
   "codemirror_mode": {
    "name": "ipython",
    "version": 3
   },
   "file_extension": ".py",
   "mimetype": "text/x-python",
   "name": "python",
   "nbconvert_exporter": "python",
   "pygments_lexer": "ipython3",
   "version": "3.11.4"
  },
  "orig_nbformat": 4
 },
 "nbformat": 4,
 "nbformat_minor": 2
}
